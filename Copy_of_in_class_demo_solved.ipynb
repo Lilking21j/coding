{
  "nbformat": 4,
  "nbformat_minor": 0,
  "metadata": {
    "interpreter": {
      "hash": "fd61235da8d855c081cbd5d7c6398e4c179a40a950675235256f7f30499f1124"
    },
    "kernelspec": {
      "display_name": "Python 3.7.4 64-bit ('base': conda)",
      "name": "python3"
    },
    "language_info": {
      "codemirror_mode": {
        "name": "ipython",
        "version": 3
      },
      "file_extension": ".py",
      "mimetype": "text/x-python",
      "name": "python",
      "nbconvert_exporter": "python",
      "pygments_lexer": "ipython3",
      "version": "3.7.4"
    },
    "orig_nbformat": 4,
    "colab": {
      "name": "Copy of in_class_demo_solved.ipynb",
      "provenance": [],
      "include_colab_link": true
    }
  },
  "cells": [
    {
      "cell_type": "markdown",
      "metadata": {
        "id": "view-in-github",
        "colab_type": "text"
      },
      "source": [
        "<a href=\"https://colab.research.google.com/github/Lilking21j/coding/blob/main/Copy_of_in_class_demo_solved.ipynb\" target=\"_parent\"><img src=\"https://colab.research.google.com/assets/colab-badge.svg\" alt=\"Open In Colab\"/></a>"
      ]
    },
    {
      "cell_type": "markdown",
      "metadata": {
        "id": "sedN0fghweo3"
      },
      "source": [
        "# Print Function\n",
        "The print function is like a messenger. It can be used to show the current value of a variable, provide helper messages, or just to do further inspection of variables and functions.\n",
        "\n",
        "\n",
        "Think of it like a push notificaion for code.\n",
        "\n",
        "![image](https://i.imgflip.com/4ljdxs.png)\n",
        "\n",
        "## When to use it\n",
        "* Whenever you want to inspect the value of a variable in your code\n",
        "* Whenever you have some message that you want to display \n",
        "* During debugging to make sure values are correct\n",
        "\n",
        "## What can it print?\n",
        "Basically anything. Anything you pass to the print function will get displayed on the screen, as long as it follows python syntax.\n",
        "\n"
      ]
    },
    {
      "cell_type": "code",
      "metadata": {
        "id": "KXSl4Ht3weo7"
      },
      "source": [
        "# Pass a message that you want to display\n",
        "print(\"Nah he tweakin 🤦🏾‍♀️\")"
      ],
      "execution_count": null,
      "outputs": []
    },
    {
      "cell_type": "code",
      "metadata": {
        "id": "aays2Z-P1iaz",
        "colab": {
          "base_uri": "https://localhost:8080/"
        },
        "outputId": "a502b964-74fe-45ef-fbf3-6275a9a957e6"
      },
      "source": [
        "print(\"hello im abdi\")"
      ],
      "execution_count": null,
      "outputs": [
        {
          "output_type": "stream",
          "name": "stdout",
          "text": [
            "hello im abdi\n"
          ]
        }
      ]
    },
    {
      "cell_type": "code",
      "metadata": {
        "id": "1mbaBVIzweo9",
        "colab": {
          "base_uri": "https://localhost:8080/"
        },
        "outputId": "61eaf1d5-1ccb-413d-805e-88e4bd67dfd7"
      },
      "source": [
        "# you can print multiple values at once\n",
        "print(\"This is the first\", \"This is the second\", \"This is the third\")"
      ],
      "execution_count": null,
      "outputs": [
        {
          "output_type": "stream",
          "name": "stdout",
          "text": [
            "This is the first This is the second This is the third\n"
          ]
        }
      ]
    },
    {
      "cell_type": "code",
      "metadata": {
        "id": "NI1I9zk_1nVi",
        "colab": {
          "base_uri": "https://localhost:8080/"
        },
        "outputId": "9785a836-1cc1-4e30-fea8-3a066b362350"
      },
      "source": [
        "print(\"we like to play games,and cook\")"
      ],
      "execution_count": null,
      "outputs": [
        {
          "output_type": "stream",
          "name": "stdout",
          "text": [
            "we like to play games,and cook\n"
          ]
        }
      ]
    },
    {
      "cell_type": "code",
      "metadata": {
        "id": "G8KtTfP-weo9"
      },
      "source": [
        "# you can also print variables\n",
        "x = 'This is a string'\n",
        "y = 45\n",
        "print(x,\"who's age is\",y)"
      ],
      "execution_count": null,
      "outputs": []
    },
    {
      "cell_type": "code",
      "metadata": {
        "id": "Jilis7fG1xBD",
        "colab": {
          "base_uri": "https://localhost:8080/"
        },
        "outputId": "94ca830c-3667-4b17-8579-80eb9e3e347f"
      },
      "source": [
        "x='is the words'\n",
        "y=15\n",
        "print(x,\"this is my age\",y)"
      ],
      "execution_count": null,
      "outputs": [
        {
          "output_type": "stream",
          "name": "stdout",
          "text": [
            "is the words this is my age 15\n"
          ]
        }
      ]
    },
    {
      "cell_type": "code",
      "metadata": {
        "id": "paa7rsKXweo-"
      },
      "source": [
        "# printing more complex variables\n",
        "var = {'my_age':22,\n",
        "       'favorite_food':'steak',\n",
        "       'school':'Nah'}\n",
        "\n",
        "print(\"Description of Gabe\",var)"
      ],
      "execution_count": null,
      "outputs": []
    },
    {
      "cell_type": "code",
      "metadata": {
        "id": "kBtDfEhy2Vh3",
        "colab": {
          "base_uri": "https://localhost:8080/"
        },
        "outputId": "1c64727e-9d7c-446a-efd6-cb8995de624b"
      },
      "source": [
        "var={'my_age':15,\n",
        "     'favorite_food':'rice',\n",
        "     'school':'ok'}\n",
        "\n",
        "print(\"Description of Abdi\",var)"
      ],
      "execution_count": null,
      "outputs": [
        {
          "output_type": "stream",
          "name": "stdout",
          "text": [
            "Description of Abdi {'my_age': 15, 'favorite_food': 'rice', 'school': 'ok'}\n"
          ]
        }
      ]
    },
    {
      "cell_type": "markdown",
      "metadata": {
        "id": "Tr26n3RBweo-"
      },
      "source": [
        "## Print Keyword Arguments\n",
        "In any programming language, functions can take inputs called arguments. The values that are passed to the print function are called positional arguments, but you can also provide keyword arguments (will be explained more in depth in the Functions Module).\n",
        "\n",
        "**important keyword arguments to know are:**\n",
        "* **objects** - This is what we've been giving the function this whole time, and u can add as many as you like.\n",
        "* **sep** - Inserts a separator between objects. (default is space)\n",
        "* **end** - Specify what to print at the end. (default is a newline '\\n')\n",
        "---------------------------------------------------------------------------------------\n",
        "\n",
        "## Sep argument\n",
        "Inserts a string between values (default is space)"
      ]
    },
    {
      "cell_type": "code",
      "metadata": {
        "id": "dxrwCSH_weo_"
      },
      "source": [
        "# you can seperate values in the print function by utilizing the 'sep' argument\n",
        "print(\"This is the first\", \"This is the second\", \"This is the third\", sep=': ')"
      ],
      "execution_count": null,
      "outputs": []
    },
    {
      "cell_type": "code",
      "metadata": {
        "id": "hu2BLbRSwepA"
      },
      "source": [
        "# anything, including variables, can be used to seperate arguments\n",
        "var = \" :seperator: \"\n",
        "print(1,2,3,4, sep = var)"
      ],
      "execution_count": null,
      "outputs": []
    },
    {
      "cell_type": "markdown",
      "metadata": {
        "id": "nBk2y13NwepA"
      },
      "source": [
        "-------------------------------\n",
        "## End argument\n",
        "Specifies what to print at the end. (default is a newline)\n",
        "\n",
        "**Why use this?**\n",
        "\n",
        "This comes in handy when you want to print information about the state of your program using information that is created at different places in program execution."
      ]
    },
    {
      "cell_type": "code",
      "metadata": {
        "id": "k_UAd2cXwepB",
        "colab": {
          "base_uri": "https://localhost:8080/"
        },
        "outputId": "1d55076b-dc19-433e-e04f-e8bc45f903fb"
      },
      "source": [
        "print(\"This variable was defined after the print statement\")\n",
        "var = [1,2,3,4,5]\n",
        "print(var)"
      ],
      "execution_count": null,
      "outputs": [
        {
          "output_type": "stream",
          "name": "stdout",
          "text": [
            "This variable was defined after the print statement\n",
            "[1, 2, 3, 4, 5]\n"
          ]
        }
      ]
    },
    {
      "cell_type": "code",
      "metadata": {
        "id": "jY5u72an4IHG",
        "colab": {
          "base_uri": "https://localhost:8080/"
        },
        "outputId": "77e81aba-dc29-42ec-eff0-9416f8dd0767"
      },
      "source": [
        "print(\"this is and will be\", end=\". \")\n",
        "var = [1,2,3,4,5]\n",
        "print(var)"
      ],
      "execution_count": null,
      "outputs": [
        {
          "output_type": "stream",
          "name": "stdout",
          "text": [
            "this is and will be. [1, 2, 3, 4, 5]\n"
          ]
        }
      ]
    },
    {
      "cell_type": "code",
      "metadata": {
        "id": "FH7yfP67wepB",
        "colab": {
          "base_uri": "https://localhost:8080/"
        },
        "outputId": "29786977-0963-401b-cc74-1ea8e3bc29af"
      },
      "source": [
        "# anything can be added to the end, however, it should be something that makes sense\n",
        "bad_end = None\n",
        "print(\"This should not be used.\", end = \"11,\"\n",
        ")\n",
        "print(\"Why did you do this?\")"
      ],
      "execution_count": null,
      "outputs": [
        {
          "output_type": "stream",
          "name": "stdout",
          "text": [
            "This should not be used.11,Why did you do this?\n"
          ]
        }
      ]
    },
    {
      "cell_type": "code",
      "metadata": {
        "id": "N6JpH3I-5PUS"
      },
      "source": [
        ""
      ],
      "execution_count": null,
      "outputs": []
    },
    {
      "cell_type": "code",
      "metadata": {
        "id": "aZY-v3h24jBN"
      },
      "source": [
        ""
      ],
      "execution_count": null,
      "outputs": []
    },
    {
      "cell_type": "code",
      "metadata": {
        "id": "LaTFTH9BwepB"
      },
      "source": [
        "# print the state of a loop on a single line (you'll learn more about loops in module 2)\n",
        "print(\"Looping...\", end = \" \")\n",
        "\n",
        "# Runs a loop 3 times\n",
        "for i in range(3):\n",
        "    print(\"iteration #\", i + 1, end = \" -> \", sep = \"\")"
      ],
      "execution_count": null,
      "outputs": []
    },
    {
      "cell_type": "markdown",
      "metadata": {
        "id": "tCroLrlRwepC"
      },
      "source": [
        "-------------------------------\n",
        "## F-strings\n",
        "In python, strings are a type of variable used to represent text. When we pass information to the print function, everything gets converted into strings so that it can be shown on screen. So, whenever a variable gets printed to the screen, it is converted to string object (text).\n",
        "\n",
        "Sometimes we want to print out multiple variables in a single line, and you already learned how to do this by separating the values with commas. \n",
        "\n",
        "```python \n",
        "print(var1, var2, var3)\n",
        "```\n",
        "However, theres a better way we can do this. \n",
        "\n",
        "F-strings, or formatted strings, are strings that get evaluated at runtime so you can give it any variable or expression and python will format it as a single string.\n",
        "\n",
        "<h1 style = \"color: #fa00f4;\"> Creating f-strings</h1>\n",
        "To make a string an f-string, just add an f to the beginning of your string.\n",
        " \n",
        "``` python \n",
        "f\"I am an f-string\"\n",
        "```"
      ]
    },
    {
      "cell_type": "code",
      "metadata": {
        "id": "659wn2yDwepC",
        "colab": {
          "base_uri": "https://localhost:8080/"
        },
        "outputId": "eb01c735-7f13-4740-a6ea-6bc8bbcdf379"
      },
      "source": [
        "# this is the trash and ugly way to do it, don't do it in front of your crush\n",
        "name = \"f-Gabe\"\n",
        "age = 22\n",
        "normal_string_formatting = \"Hello, %s. You are %s.\" % (name, age)\n",
        "\n",
        "print(normal_string_formatting)"
      ],
      "execution_count": null,
      "outputs": [
        {
          "output_type": "stream",
          "name": "stdout",
          "text": [
            "Hello, f-Gabe. You are 22.\n"
          ]
        }
      ]
    },
    {
      "cell_type": "code",
      "metadata": {
        "id": "wZLW_2towepC",
        "colab": {
          "base_uri": "https://localhost:8080/"
        },
        "outputId": "5a56459b-f91e-4bf2-cc20-b38545e35ffc"
      },
      "source": [
        "# the way to do it when ur trynna impress ur crush\n",
        "name = \"Gabe\"\n",
        "age = 22\n",
        "better_string_formatting =f\"Hello, {name}. You are {age}\"\n",
        "\n",
        "print(better_string_formatting)"
      ],
      "execution_count": null,
      "outputs": [
        {
          "output_type": "stream",
          "name": "stdout",
          "text": [
            "Hello, Gabe. You are 22\n"
          ]
        }
      ]
    },
    {
      "cell_type": "code",
      "metadata": {
        "id": "TCxDzHVa7vEz",
        "colab": {
          "base_uri": "https://localhost:8080/",
          "height": 37
        },
        "outputId": "5bac3619-5e9c-44d8-8d35-a9a7ebd002f1"
      },
      "source": [
        "name = \"abdi\"\n",
        "age = 15\n",
        "f\"hello,{name}. you are {age}\""
      ],
      "execution_count": null,
      "outputs": [
        {
          "output_type": "execute_result",
          "data": {
            "application/vnd.google.colaboratory.intrinsic+json": {
              "type": "string"
            },
            "text/plain": [
              "'hello,abdi. you are 15'"
            ]
          },
          "metadata": {},
          "execution_count": 36
        }
      ]
    },
    {
      "cell_type": "code",
      "metadata": {
        "id": "k-KnYlYC7Oix"
      },
      "source": [
        ""
      ],
      "execution_count": null,
      "outputs": []
    }
  ]
}