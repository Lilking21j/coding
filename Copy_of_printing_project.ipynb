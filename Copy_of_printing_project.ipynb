{
  "nbformat": 4,
  "nbformat_minor": 0,
  "metadata": {
    "interpreter": {
      "hash": "fd61235da8d855c081cbd5d7c6398e4c179a40a950675235256f7f30499f1124"
    },
    "kernelspec": {
      "display_name": "Python 3.7.4 64-bit",
      "name": "python3"
    },
    "language_info": {
      "codemirror_mode": {
        "name": "ipython",
        "version": 3
      },
      "file_extension": ".py",
      "mimetype": "text/x-python",
      "name": "python",
      "nbconvert_exporter": "python",
      "pygments_lexer": "ipython3",
      "version": "3.7.4"
    },
    "orig_nbformat": 4,
    "colab": {
      "name": "Copy of printing_project.ipynb",
      "provenance": [],
      "include_colab_link": true
    }
  },
  "cells": [
    {
      "cell_type": "markdown",
      "metadata": {
        "id": "view-in-github",
        "colab_type": "text"
      },
      "source": [
        "<a href=\"https://colab.research.google.com/github/Lilking21j/coding/blob/main/Copy_of_printing_project.ipynb\" target=\"_parent\"><img src=\"https://colab.research.google.com/assets/colab-badge.svg\" alt=\"Open In Colab\"/></a>"
      ]
    },
    {
      "cell_type": "markdown",
      "metadata": {
        "id": "b8LbkeTQ8uN8"
      },
      "source": [
        "# Printing Project\n",
        "\n",
        "Below is a series of tasks to complete to help you understand how printing works"
      ]
    },
    {
      "cell_type": "markdown",
      "metadata": {
        "id": "cVfizhV-8uN9"
      },
      "source": [
        "# Task 1\n",
        "This task is fairly simple. All you need to do is print your name and your age."
      ]
    },
    {
      "cell_type": "code",
      "metadata": {
        "id": "9xZDH0qX8uN-",
        "colab": {
          "base_uri": "https://localhost:8080/"
        },
        "outputId": "b62501d7-fed4-4ced-d951-d2717c922f84"
      },
      "source": [
        "print(\"name abdimajid, age =15\")\n",
        "\n",
        "\n"
      ],
      "execution_count": null,
      "outputs": [
        {
          "output_type": "stream",
          "name": "stdout",
          "text": [
            "name abdimajid, age =15\n"
          ]
        }
      ]
    },
    {
      "cell_type": "markdown",
      "metadata": {
        "id": "sIEW2-718uN_"
      },
      "source": [
        "# Task 2\n",
        "print your name and age using 2 print function arguments.\n",
        "<p><em>Remember, print statement arguments are separated by commas.</em></p>\n",
        "\n",
        "```python \n",
        "#expected output#\n",
        "\" 'your_name' 'your_age' \"\n",
        "```"
      ]
    },
    {
      "cell_type": "code",
      "metadata": {
        "id": "WvVpwZQx8uN_",
        "colab": {
          "base_uri": "https://localhost:8080/"
        },
        "outputId": "70e5cb39-6066-4e22-946e-00e77ab9f4d0"
      },
      "source": [
        "print(\" 'name_abdimajid,age_15' \")"
      ],
      "execution_count": null,
      "outputs": [
        {
          "output_type": "stream",
          "name": "stdout",
          "text": [
            " 'name_abdimajid,age_15' \n"
          ]
        }
      ]
    },
    {
      "cell_type": "markdown",
      "metadata": {
        "id": "myCQLi5U8uOA"
      },
      "source": [
        "# Task 3\n",
        "print your name and age using 2 print function arguments, separated by a colon.\n",
        "\n",
        "```python \n",
        "#expected output#\n",
        "\" 'your_name':'your_age' \"\n",
        "```"
      ]
    },
    {
      "cell_type": "code",
      "metadata": {
        "id": "5erfZxzV-I6K",
        "colab": {
          "base_uri": "https://localhost:8080/",
          "height": 37
        },
        "outputId": "72c450ca-186f-46be-af3a-28c42551833e"
      },
      "source": [
        "\"['name_abdimajid']:['age 15']\""
      ],
      "execution_count": null,
      "outputs": [
        {
          "output_type": "execute_result",
          "data": {
            "application/vnd.google.colaboratory.intrinsic+json": {
              "type": "string"
            },
            "text/plain": [
              "\"['name_abdimajid']:['age 15']\""
            ]
          },
          "metadata": {},
          "execution_count": 10
        }
      ]
    },
    {
      "cell_type": "code",
      "metadata": {
        "id": "Tp_8_Raw8uOA"
      },
      "source": [
        ""
      ],
      "execution_count": null,
      "outputs": []
    },
    {
      "cell_type": "markdown",
      "metadata": {
        "id": "FyG52UGD8uOA"
      },
      "source": [
        "# Task 4\n",
        "print your favorite food and dessert separated by a colon.\n",
        "\n",
        "```python \n",
        "#expected output#\n",
        "\"my favorite food is 'your_food':'your_dessert' \"\n",
        "```"
      ]
    },
    {
      "cell_type": "code",
      "metadata": {
        "id": "fixutjFj8uOB",
        "colab": {
          "base_uri": "https://localhost:8080/",
          "height": 37
        },
        "outputId": "9d1e090d-e1c9-4c94-c7b4-16202d39650e"
      },
      "source": [
        "\"my fav foodis'rice-chips':'my fav dessert_cake'\""
      ],
      "execution_count": null,
      "outputs": [
        {
          "output_type": "execute_result",
          "data": {
            "application/vnd.google.colaboratory.intrinsic+json": {
              "type": "string"
            },
            "text/plain": [
              "\"my fav foodis'rice-chips':'my fav dessert_cake'\""
            ]
          },
          "metadata": {},
          "execution_count": 11
        }
      ]
    },
    {
      "cell_type": "markdown",
      "metadata": {
        "id": "_KkI-wWb8uOB"
      },
      "source": [
        "# Task 5\n",
        "Produce the following using separators.\n",
        "\n",
        "```python\n",
        "\"Wow I cant belive I am a: 'your_grade' in high school\"\n",
        "```\n"
      ]
    },
    {
      "cell_type": "code",
      "metadata": {
        "id": "iucxdUuW8uOB",
        "colab": {
          "base_uri": "https://localhost:8080/",
          "height": 37
        },
        "outputId": "5ed2c7d3-835d-47d2-c23e-fb0f62d39950"
      },
      "source": [
        "\"wow i cant belivee i am a:'10 grader'in your highschool\""
      ],
      "execution_count": null,
      "outputs": [
        {
          "output_type": "execute_result",
          "data": {
            "application/vnd.google.colaboratory.intrinsic+json": {
              "type": "string"
            },
            "text/plain": [
              "\"wow i cant belivee i am a:'10 grader'in your highschool\""
            ]
          },
          "metadata": {},
          "execution_count": 12
        }
      ]
    },
    {
      "cell_type": "markdown",
      "metadata": {
        "id": "hZaHwi_m8uOC"
      },
      "source": [
        "# Task 6\n",
        "Edit the code in order to print everything in a single line"
      ]
    },
    {
      "cell_type": "code",
      "metadata": {
        "id": "FAxR0nEK8uOC",
        "colab": {
          "base_uri": "https://localhost:8080/"
        },
        "outputId": "5ffd2dae-b17c-4ee8-fe2f-67b619627bc7"
      },
      "source": [
        "# code goes here\n",
        "print(\"Bruh, how can I get this on one line 🤦🏾‍♀️\", end ='.')\n",
        "var = \" Ohhh... thats how\"\n",
        "print(var)"
      ],
      "execution_count": null,
      "outputs": [
        {
          "output_type": "stream",
          "name": "stdout",
          "text": [
            "Bruh, how can I get this on one line 🤦🏾‍♀️. Ohhh... thats how\n"
          ]
        }
      ]
    },
    {
      "cell_type": "markdown",
      "metadata": {
        "id": "C2U6hS4g8uOC"
      },
      "source": [
        "# Task 7\n",
        "Edit the code to print the values using an f-string"
      ]
    },
    {
      "cell_type": "code",
      "metadata": {
        "id": "vuGuU6hE8uOD",
        "colab": {
          "base_uri": "https://localhost:8080/"
        },
        "outputId": "dc31b788-abe6-46c0-f7bb-332cce587c95"
      },
      "source": [
        "# Code goes here\n",
        "animal = 'Monkey'\n",
        "show = \"curious George\"\n",
        "print(f\"How old is that\", animal, \"from\", show, \"?\")"
      ],
      "execution_count": null,
      "outputs": [
        {
          "output_type": "stream",
          "name": "stdout",
          "text": [
            "How old is that Monkey from curious George ?\n"
          ]
        }
      ]
    },
    {
      "cell_type": "markdown",
      "metadata": {
        "id": "G0V_BrpI8uOD"
      },
      "source": [
        "# Task 8\n",
        "Use an f-string to print the name of your school, what grade you're in and your favorite thing for lunch\n",
        "\n",
        "```python \n",
        "#expected output#\n",
        "\"My name is 'your_name' and I am in 'your_grade'. My favorite thing for lunch is 'fav_lunch'.\"\n",
        "```"
      ]
    },
    {
      "cell_type": "code",
      "metadata": {
        "id": "4NEvfG378uOD"
      },
      "source": [
        "# Code goes here\n",
        "school = \"wasburn\"\n",
        "grade = 10\n",
        "fav_lunch = \"pasta\""
      ],
      "execution_count": null,
      "outputs": []
    },
    {
      "cell_type": "markdown",
      "metadata": {
        "id": "hoytVnMo8uOE"
      },
      "source": [
        "# TASK 9\n",
        "Use the escape character `\\n` to print the following string.\n",
        "\n",
        "> If I had a million dollars\n",
        "\n",
        "> I'd spend it on `'What ever you would spend it on goes here'`"
      ]
    },
    {
      "cell_type": "code",
      "metadata": {
        "id": "uywaJzkE8uOE",
        "colab": {
          "base_uri": "https://localhost:8080/"
        },
        "outputId": "4071184b-30ad-46db-9f77-c966b1de9ba9"
      },
      "source": [
        "print(\"Hello\")\n",
        "print(\"Abdi\")"
      ],
      "execution_count": null,
      "outputs": [
        {
          "output_type": "stream",
          "name": "stdout",
          "text": [
            "Hello\n",
            "Abdi\n"
          ]
        }
      ]
    },
    {
      "cell_type": "code",
      "metadata": {
        "id": "FF9NGtC4As6n",
        "colab": {
          "base_uri": "https://localhost:8080/"
        },
        "outputId": "c9c74eca-fb9e-40bf-a5df-2d2489875c49"
      },
      "source": [
        "print(\"Hello Abdi\")"
      ],
      "execution_count": null,
      "outputs": [
        {
          "output_type": "stream",
          "name": "stdout",
          "text": [
            "Hello Abdi\n"
          ]
        }
      ]
    },
    {
      "cell_type": "code",
      "metadata": {
        "id": "T7jKRJseAwZ-",
        "colab": {
          "base_uri": "https://localhost:8080/"
        },
        "outputId": "76e701c9-8055-4f37-c434-1577c63df971"
      },
      "source": [
        "print(\"Hello \\nAbdi\")"
      ],
      "execution_count": null,
      "outputs": [
        {
          "output_type": "stream",
          "name": "stdout",
          "text": [
            "Hello \n",
            "Abdi\n"
          ]
        }
      ]
    },
    {
      "cell_type": "code",
      "metadata": {
        "id": "RYFvE1QoA2g-"
      },
      "source": [
        ""
      ],
      "execution_count": null,
      "outputs": []
    }
  ]
}